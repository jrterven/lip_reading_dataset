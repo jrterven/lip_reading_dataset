{
 "cells": [
  {
   "cell_type": "code",
   "execution_count": 8,
   "metadata": {},
   "outputs": [],
   "source": [
    "import os\n",
    "import pandas as pd"
   ]
  },
  {
   "cell_type": "code",
   "execution_count": 2,
   "metadata": {},
   "outputs": [],
   "source": [
    "directory = '/datasets/Our_dataset'\n",
    "selected_cat = 'TED'"
   ]
  },
  {
   "cell_type": "code",
   "execution_count": 6,
   "metadata": {},
   "outputs": [
    {
     "name": "stdout",
     "output_type": "stream",
     "text": [
      "found 54 files\n"
     ]
    }
   ],
   "source": [
    "# Read file names in videos directory\n",
    "video_names = []\n",
    "for video_file in os.listdir(os.path.join(directory, selected_cat)):\n",
    "    if video_file.endswith(\".mp4\"):\n",
    "        video_names.append(video_file)\n",
    "\n",
    "num_files = len(video_names)\n",
    "print('found', num_files, 'files')\n",
    "#print(video_names)"
   ]
  },
  {
   "cell_type": "code",
   "execution_count": 45,
   "metadata": {},
   "outputs": [
    {
     "name": "stdout",
     "output_type": "stream",
     "text": [
      "(1, 2)\n",
      "http://www.youtube.com/watch?v=KXeJm2wla6I\n",
      "Qué es la pobreza   Daniel Cerezo\n"
     ]
    }
   ],
   "source": [
    "# Read spreadsheet\n",
    "df = pd.read_excel(os.path.join(directory, selected_cat +'.xlsx'))\n",
    "\n",
    "data = df[df['Video'].str.contains(video_names[0][:-4])==True]\n",
    "\n",
    "print(data.shape)\n",
    "print(data.iloc[0]['Link'])\n",
    "print(data.iloc[0]['Video'])"
   ]
  },
  {
   "cell_type": "code",
   "execution_count": null,
   "metadata": {},
   "outputs": [],
   "source": []
  }
 ],
 "metadata": {
  "kernelspec": {
   "display_name": "Python [default]",
   "language": "python",
   "name": "python3"
  },
  "language_info": {
   "codemirror_mode": {
    "name": "ipython",
    "version": 3
   },
   "file_extension": ".py",
   "mimetype": "text/x-python",
   "name": "python",
   "nbconvert_exporter": "python",
   "pygments_lexer": "ipython3",
   "version": "3.5.5"
  }
 },
 "nbformat": 4,
 "nbformat_minor": 2
}
