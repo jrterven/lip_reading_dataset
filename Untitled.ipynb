{
 "cells": [
  {
   "cell_type": "code",
   "execution_count": 8,
   "metadata": {},
   "outputs": [],
   "source": [
    "import os\n",
    "import pandas as pd"
   ]
  },
  {
   "cell_type": "code",
   "execution_count": 2,
   "metadata": {},
   "outputs": [],
   "source": [
    "directory = '/datasets/Our_dataset'\n",
    "selected_cat = 'TED'"
   ]
  },
  {
   "cell_type": "code",
   "execution_count": 6,
   "metadata": {},
   "outputs": [
    {
     "name": "stdout",
     "output_type": "stream",
     "text": [
      "found 54 files\n"
     ]
    }
   ],
   "source": [
    "# Read file names in videos directory\n",
    "video_names = []\n",
    "for video_file in os.listdir(os.path.join(directory, selected_cat)):\n",
    "    if video_file.endswith(\".mp4\"):\n",
    "        video_names.append(video_file)\n",
    "\n",
    "num_files = len(video_names)\n",
    "print('found', num_files, 'files')\n",
    "#print(video_names)"
   ]
  },
  {
   "cell_type": "code",
   "execution_count": 45,
   "metadata": {},
   "outputs": [
    {
     "name": "stdout",
     "output_type": "stream",
     "text": [
      "(1, 2)\n",
      "http://www.youtube.com/watch?v=KXeJm2wla6I\n",
      "Qué es la pobreza   Daniel Cerezo\n"
     ]
    }
   ],
   "source": [
    "# Read spreadsheet\n",
    "df = pd.read_excel(os.path.join(directory, selected_cat +'.xlsx'))\n",
    "\n",
    "data = df[df['Video'].str.contains(video_names[0][:-4])==True]\n",
    "\n",
    "print(data.shape)\n",
    "print(data.iloc[0]['Link'])\n",
    "print(data.iloc[0]['Video'])"
   ]
  },
  {
   "cell_type": "code",
   "execution_count": 2,
   "metadata": {},
   "outputs": [
    {
     "data": {
      "text/plain": [
       "'cual_es_tu_mejor_cancion_alejandro_cruz_tedxmatamorosmp4'"
      ]
     },
     "execution_count": 2,
     "metadata": {},
     "output_type": "execute_result"
    }
   ],
   "source": [
    "text_to_id(\"¿Cuál es tu mejor canción   Alejandro Cruz   TEDxMatamoros.mp4\")"
   ]
  },
  {
   "cell_type": "code",
   "execution_count": 10,
   "metadata": {},
   "outputs": [
    {
     "name": "stdout",
     "output_type": "stream",
     "text": [
      "[]\n"
     ]
    }
   ],
   "source": [
    "filepath = 'prueba_lines.txt'\n",
    "#with open(filepath) as fp:\n",
    "#    lines = fp.read().splitlines()\n",
    "\n",
    "lines = []\n",
    "print(lines)\n",
    "with open(filepath, \"w\") as fp:\n",
    "    for line in lines:\n",
    "        print(line, file=fp)"
   ]
  },
  {
   "cell_type": "code",
   "execution_count": 14,
   "metadata": {},
   "outputs": [
    {
     "name": "stdout",
     "output_type": "stream",
     "text": [
      "exists!\n"
     ]
    }
   ],
   "source": [
    "lines = ['holas', 'mundo']\n",
    "if 'hola' not in lines:\n",
    "    print('exists!')"
   ]
  },
  {
   "cell_type": "code",
   "execution_count": null,
   "metadata": {},
   "outputs": [],
   "source": []
  }
 ],
 "metadata": {
  "kernelspec": {
   "display_name": "Python 3",
   "language": "python",
   "name": "python3"
  },
  "language_info": {
   "codemirror_mode": {
    "name": "ipython",
    "version": 3
   },
   "file_extension": ".py",
   "mimetype": "text/x-python",
   "name": "python",
   "nbconvert_exporter": "python",
   "pygments_lexer": "ipython3",
   "version": "3.6.4"
  }
 },
 "nbformat": 4,
 "nbformat_minor": 2
}
