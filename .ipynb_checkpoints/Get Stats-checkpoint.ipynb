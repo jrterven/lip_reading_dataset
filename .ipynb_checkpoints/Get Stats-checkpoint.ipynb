{
 "cells": [
  {
   "cell_type": "code",
   "execution_count": 1,
   "metadata": {},
   "outputs": [
    {
     "name": "stdout",
     "output_type": "stream",
     "text": [
      "9182 files\n"
     ]
    }
   ],
   "source": [
    "import glob\n",
    "import os\n",
    "from collections import Counter\n",
    "\n",
    "results_dir = '/datasets/Our_dataset/results'\n",
    "\n",
    "# load all the .txt files recursively\n",
    "all_annotations = glob.glob(results_dir + '/**/*.txt', recursive=True)\n",
    "print(len(all_annotations), 'files')\n"
   ]
  },
  {
   "cell_type": "markdown",
   "metadata": {},
   "source": [
    "## Count all the words"
   ]
  },
  {
   "cell_type": "code",
   "execution_count": 2,
   "metadata": {},
   "outputs": [],
   "source": [
    "wordcounter = Counter({})\n",
    "words_per_video = []\n",
    "for ann_idx, ann_file in enumerate(all_annotations):\n",
    "    file = open(ann_file, \"r\")\n",
    "    words = file.read().split()\n",
    "    file.close()\n",
    "    \n",
    "    current_wordcounter = Counter(words)\n",
    "    wordcounter += current_wordcounter\n",
    "    \n",
    "    words_per_video.append(len(words))\n"
   ]
  },
  {
   "cell_type": "markdown",
   "metadata": {},
   "source": [
    "## Some stats"
   ]
  },
  {
   "cell_type": "code",
   "execution_count": 6,
   "metadata": {},
   "outputs": [
    {
     "name": "stdout",
     "output_type": "stream",
     "text": [
      "Number of words: 9873\n",
      "10 most common words:\n",
      "[('que', 3723), ('de', 3050), ('la', 2163), ('y', 1988), ('a', 1865), ('el', 1594), ('no', 1589), ('en', 1459), ('un', 1178), ('es', 1169)]\n",
      "Max words in a video: 25\n",
      "Min words in a video: 1\n"
     ]
    }
   ],
   "source": [
    "print(\"Number of words:\", len(wordcounter))\n",
    "\n",
    "print(\"10 most common words:\")\n",
    "print(wordcounter.most_common(10))\n",
    "\n",
    "print(\"Max words in a video:\", max(words_per_video))\n",
    "print(\"Min words in a video:\", min(words_per_video))"
   ]
  },
  {
   "cell_type": "code",
   "execution_count": 4,
   "metadata": {},
   "outputs": [
    {
     "name": "stdout",
     "output_type": "stream",
     "text": [
      "9182\n"
     ]
    }
   ],
   "source": [
    "words_per_video_counter = Counter(words_per_video)"
   ]
  },
  {
   "cell_type": "code",
   "execution_count": null,
   "metadata": {},
   "outputs": [],
   "source": []
  }
 ],
 "metadata": {
  "kernelspec": {
   "display_name": "Python 3",
   "language": "python",
   "name": "python3"
  },
  "language_info": {
   "codemirror_mode": {
    "name": "ipython",
    "version": 3
   },
   "file_extension": ".py",
   "mimetype": "text/x-python",
   "name": "python",
   "nbconvert_exporter": "python",
   "pygments_lexer": "ipython3",
   "version": "3.6.4"
  }
 },
 "nbformat": 4,
 "nbformat_minor": 2
}
