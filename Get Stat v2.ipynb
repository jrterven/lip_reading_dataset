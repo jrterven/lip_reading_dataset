{
 "cells": [
  {
   "cell_type": "code",
   "execution_count": 1,
   "metadata": {},
   "outputs": [],
   "source": [
    "import os\n",
    "from collections import Counter\n",
    "import csv\n",
    "\n",
    "database_file = '/datasets/Our_dataset/results2/annotations.csv'\n",
    "csv_columns = ['text', 'conf', 'start', 'end', 'bounding_box', 'link']\n"
   ]
  },
  {
   "cell_type": "markdown",
   "metadata": {},
   "source": [
    "## Count all the words"
   ]
  },
  {
   "cell_type": "code",
   "execution_count": 8,
   "metadata": {},
   "outputs": [],
   "source": [
    "wordcounter = Counter({})\n",
    "words_per_sample = []\n",
    "\n",
    "with open(database_file) as File:\n",
    "    reader = csv.DictReader(File, fieldnames=csv_columns)\n",
    "    for row in reader:\n",
    "        words = row['text'].split()\n",
    "        current_wordcounter = Counter(words)\n",
    "        wordcounter += current_wordcounter\n",
    "        words_per_sample.append(len(words))\n",
    "        "
   ]
  },
  {
   "cell_type": "markdown",
   "metadata": {},
   "source": [
    "## Some stats"
   ]
  },
  {
   "cell_type": "code",
   "execution_count": 21,
   "metadata": {},
   "outputs": [
    {
     "name": "stdout",
     "output_type": "stream",
     "text": [
      "Number of words: 13026\n",
      "10 most common words:\n",
      "[('que', 6507), ('de', 5146), ('y', 4247), ('la', 3722), ('a', 2904), ('en', 2855), ('el', 2682), ('no', 2259), ('un', 1891), ('es', 1565)]\n",
      "10 least common words:\n",
      "[('paranoica', 1), ('cuidemos', 1), ('miremos', 1), ('elizabeth', 1), ('cortadas', 1), ('retroceda', 1), ('prestaba', 1), ('gestores', 1), ('esenciales', 1)]\n",
      "Max words in a video: 5\n",
      "Min words in a video: 1\n"
     ]
    }
   ],
   "source": [
    "print(\"Number of words:\", len(wordcounter))\n",
    "\n",
    "print(\"10 most common words:\")\n",
    "print(wordcounter.most_common(10))\n",
    "print(\"10 least common words:\")\n",
    "print(wordcounter.most_common()[-10:-1])\n",
    "\n",
    "print(\"Max words in a video:\", max(words_per_sample))\n",
    "print(\"Min words in a video:\", min(words_per_sample))"
   ]
  },
  {
   "cell_type": "code",
   "execution_count": 10,
   "metadata": {},
   "outputs": [],
   "source": [
    "words_per_sample_counter = Counter(words_per_sample)"
   ]
  },
  {
   "cell_type": "code",
   "execution_count": 12,
   "metadata": {},
   "outputs": [
    {
     "name": "stdout",
     "output_type": "stream",
     "text": [
      "Counter({5: 25027, 4: 1108, 3: 1079, 2: 991, 1: 613})\n"
     ]
    }
   ],
   "source": [
    "print(words_per_sample_counter)"
   ]
  },
  {
   "cell_type": "code",
   "execution_count": null,
   "metadata": {},
   "outputs": [],
   "source": []
  }
 ],
 "metadata": {
  "kernelspec": {
   "display_name": "Python 3",
   "language": "python",
   "name": "python3"
  },
  "language_info": {
   "codemirror_mode": {
    "name": "ipython",
    "version": 3
   },
   "file_extension": ".py",
   "mimetype": "text/x-python",
   "name": "python",
   "nbconvert_exporter": "python",
   "pygments_lexer": "ipython3",
   "version": "3.6.4"
  }
 },
 "nbformat": 4,
 "nbformat_minor": 2
}
